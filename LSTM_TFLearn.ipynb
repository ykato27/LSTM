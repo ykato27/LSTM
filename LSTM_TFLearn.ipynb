{
  "nbformat": 4,
  "nbformat_minor": 0,
  "metadata": {
    "colab": {
      "name": "LSTM_TFLearn.ipynb",
      "provenance": [],
      "authorship_tag": "ABX9TyO/ZS0oy4dR+nQQPKOMmBuN",
      "include_colab_link": true
    },
    "kernelspec": {
      "name": "python3",
      "display_name": "Python 3"
    }
  },
  "cells": [
    {
      "cell_type": "markdown",
      "metadata": {
        "id": "view-in-github",
        "colab_type": "text"
      },
      "source": [
        "<a href=\"https://colab.research.google.com/github/ykato27/LSTM/blob/main/LSTM_TFLearn.ipynb\" target=\"_parent\"><img src=\"https://colab.research.google.com/assets/colab-badge.svg\" alt=\"Open In Colab\"/></a>"
      ]
    },
    {
      "cell_type": "code",
      "metadata": {
        "id": "gTDVOJrink_M"
      },
      "source": [
        "# 必要なライブラリのインポート\n",
        "%matplotlib inline\n",
        "import matplotlib.pyplot as plt\n",
        "import pandas as pd \n",
        "import numpy as np \n",
        "import tflearn"
      ],
      "execution_count": null,
      "outputs": []
    },
    {
      "cell_type": "code",
      "metadata": {
        "id": "1m88rQ6Wn2l6"
      },
      "source": [
        "dataframe = pd.read_csv('international-airline-passengers.csv', usecols=[1])\n",
        "dataset = dataframe.values\n",
        "dataset = dataset.astype('float32')"
      ],
      "execution_count": null,
      "outputs": []
    },
    {
      "cell_type": "markdown",
      "metadata": {
        "id": "_dwlwimAo3A-"
      },
      "source": [
        "訓練データとテストデータに分けてあとで評価できるように分ける"
      ]
    },
    {
      "cell_type": "code",
      "metadata": {
        "id": "POOJB72m4pEI"
      },
      "source": [
        "dataset -= np.min(np.abs(dataset))\n",
        "dataset /= np.max(np.abs(dataset))"
      ],
      "execution_count": null,
      "outputs": []
    },
    {
      "cell_type": "code",
      "metadata": {
        "id": "vBBEojHOo6zj"
      },
      "source": [
        "def create_dataset(dataset, steps_of_history, steps_in_future):\n",
        "    X, Y = [], []\n",
        "    for i in range(0, len(dataset)-steps_of_history, steps_in_future):\n",
        "        X.append(dataset[i:i+steps_of_history])\n",
        "        Y.append(dataset[i + steps_of_history])\n",
        "    X = np.reshape(np.array(X), [-1, steps_of_history, 1])\n",
        "    Y = np.reshape(np.array(Y), [-1, 1])\n",
        "    return X, Y\n",
        "\n",
        "def split_data(x, y, test_size=0.1):\n",
        "    pos = round(len(x) * (1 - test_size))\n",
        "    trainX, trainY = x[:pos], y[:pos]\n",
        "    testX, testY   = x[pos:], y[pos:]\n",
        "    return trainX, trainY, testX, testY\n",
        "\n",
        "steps_of_history = 1\n",
        "steps_in_future = 1\n",
        "\n",
        "X, Y = create_dataset(dataset, steps_of_history, steps_in_future)\n",
        "trainX, trainY, testX, testY = split_data(X, Y, 0.3)"
      ],
      "execution_count": null,
      "outputs": []
    },
    {
      "cell_type": "markdown",
      "metadata": {
        "id": "PuLz1N2ApbD7"
      },
      "source": [
        "TFLearnでLSTMネットワークを構築していこう。今回は回帰問題なので、activation関数は恒等関数にして二乗誤差を最小にするように学習させる。"
      ]
    },
    {
      "cell_type": "code",
      "metadata": {
        "colab": {
          "base_uri": "https://localhost:8080/"
        },
        "id": "9bPNGENbpSW_",
        "outputId": "6bad9039-b937-482f-e3fd-49e3c7dfd68d"
      },
      "source": [
        "net = tflearn.input_data(shape=[None, steps_of_history, 1])\n",
        "net = tflearn.lstm(net, n_units=6)\n",
        "net = tflearn.fully_connected(net, 1, activation='linear')\n",
        "net = tflearn.regression(net, optimizer='adam', learning_rate=0.001,\n",
        "        loss='mean_square')\n",
        "\n",
        "model = tflearn.DNN(net, tensorboard_verbose=0)\n",
        "model.fit(trainX, trainY, validation_set=0.1, batch_size=1, n_epoch=30)"
      ],
      "execution_count": null,
      "outputs": [
        {
          "output_type": "stream",
          "text": [
            "Training Step: 2699  | total loss: \u001b[1m\u001b[32m0.00226\u001b[0m\u001b[0m | time: 0.627s\n",
            "| Adam | epoch: 030 | loss: 0.00226 -- iter: 89/90\n",
            "Training Step: 2700  | total loss: \u001b[1m\u001b[32m0.00212\u001b[0m\u001b[0m | time: 1.640s\n",
            "| Adam | epoch: 030 | loss: 0.00212 | val_loss: 0.00127 -- iter: 90/90\n",
            "--\n"
          ],
          "name": "stdout"
        }
      ]
    },
    {
      "cell_type": "markdown",
      "metadata": {
        "id": "DDgdDc6epaRH"
      },
      "source": [
        "TensorBoardで誤差を可視化する"
      ]
    },
    {
      "cell_type": "code",
      "metadata": {
        "id": "t8prJq4cpoB5"
      },
      "source": [
        "model = tflearn.DNN(net, tensorboard_verbose=0)"
      ],
      "execution_count": null,
      "outputs": []
    },
    {
      "cell_type": "markdown",
      "metadata": {
        "id": "WD1pxATqpril"
      },
      "source": [
        "引数tensorboard_verboseの値を0~3にすることで可視化するログレベルを調節できる。\n",
        "\n",
        "0. 誤差と正解率\n",
        "1. 誤差と正解率と勾配\n",
        "2. 誤差と正解率と勾配と重み\n",
        "3. 誤差と正解率と重みと活性度とスパースさ\n",
        "\n",
        "が可視化できる。verboseのレベルを上げるとより詳細を可視化できるが、学習速度が落ちる。"
      ]
    },
    {
      "cell_type": "code",
      "metadata": {
        "id": "fXc7EfMTqN8Y",
        "colab": {
          "base_uri": "https://localhost:8080/",
          "height": 516
        },
        "outputId": "e161aedc-2983-4068-9ded-62e38f2429a1"
      },
      "source": [
        "train_predict = model.predict(trainX)\n",
        "test_predict = model.predict(testX)\n",
        "\n",
        "train_predict_plot = np.empty_like(dataset)\n",
        "train_predict_plot[:, :] = np.nan\n",
        "train_predict_plot[steps_of_history:len(train_predict)+steps_of_history, :] = train_predict\n",
        "\n",
        "test_predict_plot = np.empty_like(dataset)\n",
        "test_predict_plot[:, :] = np.nan\n",
        "test_predict_plot[len(train_predict)+steps_of_history:len(dataset), :] = test_predict\n",
        "\n",
        "plt.figure(figsize=(8, 8))\n",
        "plt.title('History={} Future={}'.format(steps_of_history, steps_in_future))\n",
        "plt.plot(dataset)\n",
        "plt.plot(train_predict_plot)\n",
        "plt.plot(test_predict_plot)"
      ],
      "execution_count": null,
      "outputs": [
        {
          "output_type": "execute_result",
          "data": {
            "text/plain": [
              "[<matplotlib.lines.Line2D at 0x7f2f55166b70>]"
            ]
          },
          "metadata": {
            "tags": []
          },
          "execution_count": 23
        },
        {
          "output_type": "display_data",
          "data": {
            "image/png": "[encoded data removed]",
            "text/plain": [
              "<Figure size 576x576 with 1 Axes>"
            ]
          },
          "metadata": {
            "tags": [],
            "needs_background": "light"
          }
        }
      ]
    },
    {
      "cell_type": "code",
      "metadata": {
        "id": "jrhzqdqfu__e"
      },
      "source": [
        ""
      ],
      "execution_count": null,
      "outputs": []
    }
  ]
}